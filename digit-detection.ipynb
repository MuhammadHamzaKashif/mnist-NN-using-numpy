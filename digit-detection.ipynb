{
 "cells": [
  {
   "cell_type": "code",
   "execution_count": 25,
   "id": "e9149221-16e3-4e6c-b77c-c7e2973016bb",
   "metadata": {},
   "outputs": [],
   "source": [
    "import pandas as pd\n",
    "import numpy as np\n",
    "import matplotlib.pyplot as plt"
   ]
  },
  {
   "cell_type": "markdown",
   "id": "dcd92c84-a9a1-41ed-9d83-38a7adb4a8f1",
   "metadata": {},
   "source": [
    "# Importing dataset"
   ]
  },
  {
   "cell_type": "code",
   "execution_count": 2,
   "id": "048b417c-d479-4139-b455-e59006e49969",
   "metadata": {},
   "outputs": [],
   "source": [
    "df = pd.read_csv('dataset/mnist_test.csv')"
   ]
  },
  {
   "cell_type": "code",
   "execution_count": 3,
   "id": "7188fdea-8b90-47e6-94ef-8342642fb7f4",
   "metadata": {},
   "outputs": [
    {
     "data": {
      "text/html": [
       "<div>\n",
       "<style scoped>\n",
       "    .dataframe tbody tr th:only-of-type {\n",
       "        vertical-align: middle;\n",
       "    }\n",
       "\n",
       "    .dataframe tbody tr th {\n",
       "        vertical-align: top;\n",
       "    }\n",
       "\n",
       "    .dataframe thead th {\n",
       "        text-align: right;\n",
       "    }\n",
       "</style>\n",
       "<table border=\"1\" class=\"dataframe\">\n",
       "  <thead>\n",
       "    <tr style=\"text-align: right;\">\n",
       "      <th></th>\n",
       "      <th>label</th>\n",
       "      <th>1x1</th>\n",
       "      <th>1x2</th>\n",
       "      <th>1x3</th>\n",
       "      <th>1x4</th>\n",
       "      <th>1x5</th>\n",
       "      <th>1x6</th>\n",
       "      <th>1x7</th>\n",
       "      <th>1x8</th>\n",
       "      <th>1x9</th>\n",
       "      <th>...</th>\n",
       "      <th>28x19</th>\n",
       "      <th>28x20</th>\n",
       "      <th>28x21</th>\n",
       "      <th>28x22</th>\n",
       "      <th>28x23</th>\n",
       "      <th>28x24</th>\n",
       "      <th>28x25</th>\n",
       "      <th>28x26</th>\n",
       "      <th>28x27</th>\n",
       "      <th>28x28</th>\n",
       "    </tr>\n",
       "  </thead>\n",
       "  <tbody>\n",
       "    <tr>\n",
       "      <th>0</th>\n",
       "      <td>7</td>\n",
       "      <td>0</td>\n",
       "      <td>0</td>\n",
       "      <td>0</td>\n",
       "      <td>0</td>\n",
       "      <td>0</td>\n",
       "      <td>0</td>\n",
       "      <td>0</td>\n",
       "      <td>0</td>\n",
       "      <td>0</td>\n",
       "      <td>...</td>\n",
       "      <td>0</td>\n",
       "      <td>0</td>\n",
       "      <td>0</td>\n",
       "      <td>0</td>\n",
       "      <td>0</td>\n",
       "      <td>0</td>\n",
       "      <td>0</td>\n",
       "      <td>0</td>\n",
       "      <td>0</td>\n",
       "      <td>0</td>\n",
       "    </tr>\n",
       "    <tr>\n",
       "      <th>1</th>\n",
       "      <td>2</td>\n",
       "      <td>0</td>\n",
       "      <td>0</td>\n",
       "      <td>0</td>\n",
       "      <td>0</td>\n",
       "      <td>0</td>\n",
       "      <td>0</td>\n",
       "      <td>0</td>\n",
       "      <td>0</td>\n",
       "      <td>0</td>\n",
       "      <td>...</td>\n",
       "      <td>0</td>\n",
       "      <td>0</td>\n",
       "      <td>0</td>\n",
       "      <td>0</td>\n",
       "      <td>0</td>\n",
       "      <td>0</td>\n",
       "      <td>0</td>\n",
       "      <td>0</td>\n",
       "      <td>0</td>\n",
       "      <td>0</td>\n",
       "    </tr>\n",
       "    <tr>\n",
       "      <th>2</th>\n",
       "      <td>1</td>\n",
       "      <td>0</td>\n",
       "      <td>0</td>\n",
       "      <td>0</td>\n",
       "      <td>0</td>\n",
       "      <td>0</td>\n",
       "      <td>0</td>\n",
       "      <td>0</td>\n",
       "      <td>0</td>\n",
       "      <td>0</td>\n",
       "      <td>...</td>\n",
       "      <td>0</td>\n",
       "      <td>0</td>\n",
       "      <td>0</td>\n",
       "      <td>0</td>\n",
       "      <td>0</td>\n",
       "      <td>0</td>\n",
       "      <td>0</td>\n",
       "      <td>0</td>\n",
       "      <td>0</td>\n",
       "      <td>0</td>\n",
       "    </tr>\n",
       "    <tr>\n",
       "      <th>3</th>\n",
       "      <td>0</td>\n",
       "      <td>0</td>\n",
       "      <td>0</td>\n",
       "      <td>0</td>\n",
       "      <td>0</td>\n",
       "      <td>0</td>\n",
       "      <td>0</td>\n",
       "      <td>0</td>\n",
       "      <td>0</td>\n",
       "      <td>0</td>\n",
       "      <td>...</td>\n",
       "      <td>0</td>\n",
       "      <td>0</td>\n",
       "      <td>0</td>\n",
       "      <td>0</td>\n",
       "      <td>0</td>\n",
       "      <td>0</td>\n",
       "      <td>0</td>\n",
       "      <td>0</td>\n",
       "      <td>0</td>\n",
       "      <td>0</td>\n",
       "    </tr>\n",
       "    <tr>\n",
       "      <th>4</th>\n",
       "      <td>4</td>\n",
       "      <td>0</td>\n",
       "      <td>0</td>\n",
       "      <td>0</td>\n",
       "      <td>0</td>\n",
       "      <td>0</td>\n",
       "      <td>0</td>\n",
       "      <td>0</td>\n",
       "      <td>0</td>\n",
       "      <td>0</td>\n",
       "      <td>...</td>\n",
       "      <td>0</td>\n",
       "      <td>0</td>\n",
       "      <td>0</td>\n",
       "      <td>0</td>\n",
       "      <td>0</td>\n",
       "      <td>0</td>\n",
       "      <td>0</td>\n",
       "      <td>0</td>\n",
       "      <td>0</td>\n",
       "      <td>0</td>\n",
       "    </tr>\n",
       "  </tbody>\n",
       "</table>\n",
       "<p>5 rows × 785 columns</p>\n",
       "</div>"
      ],
      "text/plain": [
       "   label  1x1  1x2  1x3  1x4  1x5  1x6  1x7  1x8  1x9  ...  28x19  28x20  \\\n",
       "0      7    0    0    0    0    0    0    0    0    0  ...      0      0   \n",
       "1      2    0    0    0    0    0    0    0    0    0  ...      0      0   \n",
       "2      1    0    0    0    0    0    0    0    0    0  ...      0      0   \n",
       "3      0    0    0    0    0    0    0    0    0    0  ...      0      0   \n",
       "4      4    0    0    0    0    0    0    0    0    0  ...      0      0   \n",
       "\n",
       "   28x21  28x22  28x23  28x24  28x25  28x26  28x27  28x28  \n",
       "0      0      0      0      0      0      0      0      0  \n",
       "1      0      0      0      0      0      0      0      0  \n",
       "2      0      0      0      0      0      0      0      0  \n",
       "3      0      0      0      0      0      0      0      0  \n",
       "4      0      0      0      0      0      0      0      0  \n",
       "\n",
       "[5 rows x 785 columns]"
      ]
     },
     "execution_count": 3,
     "metadata": {},
     "output_type": "execute_result"
    }
   ],
   "source": [
    "df.head()"
   ]
  },
  {
   "cell_type": "code",
   "execution_count": 4,
   "id": "328a106c-3588-4c1e-8bb1-b75964a30431",
   "metadata": {},
   "outputs": [],
   "source": [
    "df = np.array(df)"
   ]
  },
  {
   "cell_type": "markdown",
   "id": "2e08472e-32ea-44a5-ae7e-ad5af0eb5b1a",
   "metadata": {},
   "source": [
    "# Splitting data for NN dev and Training"
   ]
  },
  {
   "cell_type": "code",
   "execution_count": 5,
   "id": "286969aa-8a37-4c67-8e47-19593f6231ee",
   "metadata": {},
   "outputs": [],
   "source": [
    "m, n = df.shape\n",
    "df_dev = df[0: 1000]\n",
    "df_train = df[1000: m]\n",
    "data = df_dev.T\n",
    "y = data[0]\n",
    "X = data[1: ]\n",
    "y_train = df_train.T[0]\n",
    "X_train = df_train.T[1: ]\n",
    "X_train = X_train / 255"
   ]
  },
  {
   "cell_type": "markdown",
   "id": "b054b7d3-8ba2-4bd1-a772-0f941e2ec977",
   "metadata": {},
   "source": [
    "# Functions for NN dev"
   ]
  },
  {
   "cell_type": "code",
   "execution_count": 6,
   "id": "40bd1e07-9765-4e2e-8461-8dfe105751e3",
   "metadata": {},
   "outputs": [],
   "source": [
    "def one_hot(y, num_classes=10):\n",
    "    one_hot_matrix = np.zeros((y.size, num_classes))\n",
    "    one_hot_matrix[np.arange(y.size), y] = 1\n",
    "    return one_hot_matrix.T"
   ]
  },
  {
   "cell_type": "code",
   "execution_count": 7,
   "id": "48aaa7fe-1a1c-4329-873d-153d7528cf05",
   "metadata": {},
   "outputs": [],
   "source": [
    "def init_params():\n",
    "    w1 = np.random.rand(10, 784) - 0.5\n",
    "    b1 = np.random.rand(10, 1) - 0.5\n",
    "    w2 = np.random.rand(10, 10) - 0.5\n",
    "    b2 = np.random.rand(10, 1) - 0.5\n",
    "    return w1, b1, w2, b2"
   ]
  },
  {
   "cell_type": "code",
   "execution_count": 8,
   "id": "a1fb03a9-da82-44b7-8d9c-b95be44caf97",
   "metadata": {},
   "outputs": [],
   "source": [
    "def reLU(z):\n",
    "    return np.maximum(0, z)\n",
    "\n",
    "def der_reLU(z):\n",
    "    return (z > 0)"
   ]
  },
  {
   "cell_type": "code",
   "execution_count": 9,
   "id": "597353eb-02aa-44f1-9163-20481414f110",
   "metadata": {},
   "outputs": [],
   "source": [
    "def softMax(z):\n",
    "    exp_z = np.exp(z - np.max(z, axis=0, keepdims=True))\n",
    "    return exp_z / np.sum(exp_z, axis=0, keepdims=True)"
   ]
  },
  {
   "cell_type": "code",
   "execution_count": 10,
   "id": "f026b502-c6eb-4c3b-94b1-ad1b6a4d4754",
   "metadata": {},
   "outputs": [],
   "source": [
    "def forward_prop(X, w1, b1, w2, b2):\n",
    "    z1 = np.dot(w1, X) + b1\n",
    "    a1 = reLU(z1)\n",
    "    z2 = np.dot(w2, a1) + b2\n",
    "    a2 = softMax(z2)\n",
    "    return z1, a1, z2, a2"
   ]
  },
  {
   "cell_type": "code",
   "execution_count": 11,
   "id": "225d054c-f3aa-4792-87e2-df717b648520",
   "metadata": {},
   "outputs": [],
   "source": [
    "def back_prop(X, y, z1, a1, w2, a2):\n",
    "    dz2 = a2 - one_hot(y)\n",
    "    dw2 = (1 / m) * np.dot(dz2, a1.T)\n",
    "    db2 = (1 / m) * np.sum(dz2)\n",
    "    dz1 = np.dot(w2.T, dz2) * der_reLU(z1)\n",
    "    dw1 = (1 / m) * np.dot(dz1, X.T)\n",
    "    db1 = (1 / m) * np.sum(dz1)\n",
    "    return dw1, db1, dw2, db2"
   ]
  },
  {
   "cell_type": "code",
   "execution_count": 12,
   "id": "f6da490f-e110-44f9-b5db-23bf611dd604",
   "metadata": {},
   "outputs": [],
   "source": [
    "def update_params(w1, b1, w2, b2, dw1, db1, dw2, db2, alpha):\n",
    "    w1 = w1 - alpha * dw1\n",
    "    b1 = b1 - alpha * db1\n",
    "    w2 = w2 - alpha * dw2\n",
    "    b2 = b2 - alpha * db2\n",
    "    return w1, b1, w2, b2"
   ]
  },
  {
   "cell_type": "code",
   "execution_count": 13,
   "id": "f76d860b-6594-4d78-9de5-6d1c7ddc20d9",
   "metadata": {},
   "outputs": [],
   "source": [
    "def pred(a):\n",
    "    return np.argmax(a, 0)"
   ]
  },
  {
   "cell_type": "code",
   "execution_count": 14,
   "id": "722ec7ee-22c1-4e1f-89fb-45c62ddb22c6",
   "metadata": {},
   "outputs": [],
   "source": [
    "def gradient_descent(X, y, iterations, alpha):\n",
    "    w1, b1, w2, b2 = init_params()\n",
    "    for i in range(iterations):\n",
    "        z1, a1, z2, a2 = forward_prop(X, w1, b1, w2, b2)\n",
    "        dw1, db1, dw2, db2 = back_prop(X, y, z1, a1, w2, a2)\n",
    "        w1, b1, w2, b2 = update_params(w1, b1, w2, b2, dw1, db1, dw2, db2, alpha)\n",
    "        if i % 50 == 0:\n",
    "            print(\"Iteration: \", i)\n",
    "            print(\"Accuracy:\", np.mean(y == pred(a2)))\n",
    "    return w1, b1, w2, b2"
   ]
  },
  {
   "cell_type": "markdown",
   "id": "16b8c8d8-a245-4afe-b04f-5b153ded9fb9",
   "metadata": {},
   "source": [
    "# Running NN"
   ]
  },
  {
   "cell_type": "code",
   "execution_count": 15,
   "id": "97aed646-4228-4b7b-b75c-20bbd4e197f2",
   "metadata": {},
   "outputs": [
    {
     "name": "stdout",
     "output_type": "stream",
     "text": [
      "Iteration:  0\n",
      "Accuracy: 0.09666666666666666\n",
      "Iteration:  50\n",
      "Accuracy: 0.3422222222222222\n",
      "Iteration:  100\n",
      "Accuracy: 0.5044444444444445\n",
      "Iteration:  150\n",
      "Accuracy: 0.6685555555555556\n",
      "Iteration:  200\n",
      "Accuracy: 0.7336666666666667\n",
      "Iteration:  250\n",
      "Accuracy: 0.7682222222222223\n",
      "Iteration:  300\n",
      "Accuracy: 0.7895555555555556\n",
      "Iteration:  350\n",
      "Accuracy: 0.8088888888888889\n",
      "Iteration:  400\n",
      "Accuracy: 0.8208888888888889\n",
      "Iteration:  450\n",
      "Accuracy: 0.8307777777777777\n",
      "Iteration:  500\n",
      "Accuracy: 0.8403333333333334\n",
      "Iteration:  550\n",
      "Accuracy: 0.8471111111111111\n",
      "Iteration:  600\n",
      "Accuracy: 0.8528888888888889\n",
      "Iteration:  650\n",
      "Accuracy: 0.8582222222222222\n",
      "Iteration:  700\n",
      "Accuracy: 0.8641111111111112\n",
      "Iteration:  750\n",
      "Accuracy: 0.8674444444444445\n",
      "Iteration:  800\n",
      "Accuracy: 0.8712222222222222\n",
      "Iteration:  850\n",
      "Accuracy: 0.8756666666666667\n",
      "Iteration:  900\n",
      "Accuracy: 0.8782222222222222\n",
      "Iteration:  950\n",
      "Accuracy: 0.8802222222222222\n"
     ]
    }
   ],
   "source": [
    "w1, b1, w2, b2 = gradient_descent(X_train, y_train, 1000, 0.1)"
   ]
  },
  {
   "cell_type": "markdown",
   "id": "d6360478-c1b2-4e8d-a87d-cc42b7cae241",
   "metadata": {},
   "source": [
    "# Testing"
   ]
  },
  {
   "cell_type": "code",
   "execution_count": 16,
   "id": "004733f7-8454-4289-baca-982e2e1d1eba",
   "metadata": {},
   "outputs": [],
   "source": [
    "import cv2"
   ]
  },
  {
   "cell_type": "code",
   "execution_count": 17,
   "id": "695f5348-faff-4c72-9cf3-445dab3dc397",
   "metadata": {},
   "outputs": [],
   "source": [
    "def preprocess_img(path):\n",
    "    img = cv2.imread(path, cv2.IMREAD_GRAYSCALE)\n",
    "    img = cv2.resize(img, (28, 28))\n",
    "    img = 255 - img\n",
    "    img = img / 255.0\n",
    "    img = img.reshape(784, 1)\n",
    "    return img"
   ]
  },
  {
   "cell_type": "code",
   "execution_count": 54,
   "id": "38f4b781-c8c5-4bfe-a1c2-41361bc32da4",
   "metadata": {},
   "outputs": [
    {
     "name": "stdout",
     "output_type": "stream",
     "text": [
      "Prediction by model: [2]\n"
     ]
    },
    {
     "data": {
      "image/png": "[encoded data removed]",
      "text/plain": [
       "<Figure size 640x480 with 1 Axes>"
      ]
     },
     "metadata": {},
     "output_type": "display_data"
    }
   ],
   "source": [
    "import matplotlib.image as mpimg\n",
    "path = 'dataset/two2.png'\n",
    "img = mpimg.imread(path)\n",
    "X_test = preprocess_img(path)\n",
    "z1, a1, z2, a2 = forward_prop(X_test, w1, b1, w2, b2)\n",
    "plt.imshow(img)\n",
    "print(\"Prediction by model:\", pred(a2))\n"
   ]
  },
  {
   "cell_type": "code",
   "execution_count": null,
   "id": "c98c832e-45c8-46a7-b98f-dfe0768c6358",
   "metadata": {},
   "outputs": [],
   "source": []
  }
 ],
 "metadata": {
  "kernelspec": {
   "display_name": "Python 3 (ipykernel)",
   "language": "python",
   "name": "python3"
  },
  "language_info": {
   "codemirror_mode": {
    "name": "ipython",
    "version": 3
   },
   "file_extension": ".py",
   "mimetype": "text/x-python",
   "name": "python",
   "nbconvert_exporter": "python",
   "pygments_lexer": "ipython3",
   "version": "3.12.7"
  }
 },
 "nbformat": 4,
 "nbformat_minor": 5
}
